{
  "nbformat": 4,
  "nbformat_minor": 0,
  "metadata": {
    "kernelspec": {
      "display_name": "Python 3",
      "language": "python",
      "name": "python3"
    },
    "language_info": {
      "codemirror_mode": {
        "name": "ipython",
        "version": 3
      },
      "file_extension": ".py",
      "mimetype": "text/x-python",
      "name": "python",
      "nbconvert_exporter": "python",
      "pygments_lexer": "ipython3",
      "version": "3.8.8"
    },
    "colab": {
      "name": "ex4.ipynb",
      "provenance": []
    },
    "accelerator": "GPU"
  },
  "cells": [
    {
      "cell_type": "markdown",
      "metadata": {
        "id": "hOhjgaMi4E8z"
      },
      "source": [
        "# Deep Learning: Ex.4 - Training Networks\n",
        "\n",
        "Submitted by: [... **name & ID** ...]\n"
      ]
    },
    {
      "cell_type": "code",
      "metadata": {
        "id": "BsBt3v_J4E82",
        "outputId": "537099ae-91f4-4231-f98f-e52c4c6e1483",
        "colab": {
          "base_uri": "https://localhost:8080/"
        }
      },
      "source": [
        "# TensorFlow and tf.keras\n",
        "import tensorflow as tf\n",
        "from tensorflow.keras.models import Sequential\n",
        "from tensorflow.keras.layers import Dense, Flatten, Conv2D, MaxPooling2D\n",
        "\n",
        "from tensorflow.keras.layers import Input, Dropout, BatchNormalization  # <-- new layers!\n",
        "from tensorflow.keras.layers import RandomFlip, RandomRotation, RandomZoom, RandomTranslation # <-- new layers!\n",
        "\n",
        "# Helper libraries\n",
        "import numpy as np\n",
        "import matplotlib.pyplot as plt\n",
        "\n",
        "from sklearn.metrics import confusion_matrix\n",
        "from seaborn import heatmap \n",
        "\n",
        "print(tf.__version__)"
      ],
      "execution_count": 1,
      "outputs": [
        {
          "output_type": "stream",
          "name": "stdout",
          "text": [
            "2.7.0\n"
          ]
        }
      ]
    },
    {
      "cell_type": "markdown",
      "metadata": {
        "id": "EeuwrZ9s4E85"
      },
      "source": [
        "### Load the CIFAR-10 Dataset\n",
        "\n",
        "We will use the same CIFAR-10 dataset as in Ex.3:"
      ]
    },
    {
      "cell_type": "code",
      "metadata": {
        "id": "d5rFo9z44E85",
        "outputId": "31333c91-3931-4253-dbfd-d21ba64f55fc",
        "colab": {
          "base_uri": "https://localhost:8080/"
        }
      },
      "source": [
        "# 1. load/download the data\n",
        "(train_images, train_labels), (test_images, test_labels) = tf.keras.datasets.cifar10.load_data()\n",
        "\n",
        "# 2. flatten the labels (easier to deal with)\n",
        "train_labels = train_labels.flatten()  # (50000, 1) -> (50000,)\n",
        "test_labels = test_labels.flatten()    # (10000, 1) -> (10000,)\n",
        "\n",
        "# 3. convert uint8->float32 and normalize range to 0.0-1.0 \n",
        "train_images = train_images.astype('float32') / 255.0\n",
        "test_images = test_images.astype('float32') / 255.0\n",
        "\n",
        "# 4. define the 10 classes names\n",
        "class_names = ['airplane', 'automobile', 'bird', 'cat', 'deer','dog', 'frog', 'horse', 'ship', 'truck']\n",
        "\n",
        "# 5. print the shapes\n",
        "print('train_images.shape =',train_images.shape)\n",
        "print('train_labels.shape =',train_labels.shape)\n",
        "print('test_images.shape =',test_images.shape)\n",
        "print('test_labels.shape =',test_labels.shape)\n"
      ],
      "execution_count": 2,
      "outputs": [
        {
          "output_type": "stream",
          "name": "stdout",
          "text": [
            "train_images.shape = (50000, 32, 32, 3)\n",
            "train_labels.shape = (50000,)\n",
            "test_images.shape = (10000, 32, 32, 3)\n",
            "test_labels.shape = (10000,)\n"
          ]
        }
      ]
    },
    {
      "cell_type": "markdown",
      "metadata": {
        "id": "R64qR90F4E86"
      },
      "source": [
        "***\n",
        "\n",
        "## 1. Testing SGD options\n",
        "\n",
        "Our basic model will be the same as in Ex.3:\n",
        "\n",
        "- `Input` layer\n",
        "- 32 3x3-`Conv2D` + 2x2 `MaxPooling` \n",
        "- 64 3x3-`Conv2D` + 2x2 `MaxPooling` \n",
        "- 128 3x3-`Conv2D` + 2x2 `MaxPooling` \n",
        "- 128-`Dense` \n",
        "- 10-`Dense` - output layer \n",
        "\n",
        "\n",
        "Prepeare a function that returns this model (without the `compile` part, just the layers)\n",
        "\n"
      ]
    },
    {
      "cell_type": "code",
      "metadata": {
        "id": "hB3TnGWv4E87"
      },
      "source": [
        "def make_basic_model():\n",
        "    # build out basic model\n",
        "    the_model = Sequential()\n",
        "    the_model.add(Input(shape=(32,32,3)))\n",
        "    the_model.add(Conv2D(32, (3,3), activation='relu', padding='same'))\n",
        "    the_model.add(MaxPooling2D((2,2)))\n",
        "    the_model.add(Conv2D(64, (3,3), activation='relu', padding='same'))\n",
        "    the_model.add(MaxPooling2D((2,2)))\n",
        "    the_model.add(Conv2D(128, (3,3), activation='relu', padding='same'))\n",
        "    the_model.add(MaxPooling2D((2,2)))\n",
        "    the_model.add(Flatten())\n",
        "    the_model.add(Dense(128, activation='relu'))\n",
        "    the_model.add(Dense(10, activation='softmax'))\n",
        "    return the_model"
      ],
      "execution_count": 3,
      "outputs": []
    },
    {
      "cell_type": "markdown",
      "metadata": {
        "id": "SFhdQQAr4E88"
      },
      "source": [
        "\n",
        "We will train the same model, each time using a different optimizer:\n",
        "- SGD with `learning_rate = 0.01`  (the default value)\n",
        "- SGD with `learning_rate = 0.001` \n",
        "- SGD with `learning_rate = 0.1`\n",
        "- SGD with `learning_rate = 0.01` and `momentum = 0.9`\n",
        "\n",
        "\n",
        "In order to train each model from scratch (and not to continue training the same model again and again), create a new model each time (m1, m2, m3, m4).\n",
        "\n",
        "Also, use a **different variable** to record the `history` of the training results (h1, h2, h3, h4).\n",
        "\n",
        "Train each model for 100 epochs with a batch size of 64 (remember to use a GPU), and plot the usual graphs (loss&accuracy for train&test).\n",
        "\n"
      ]
    },
    {
      "cell_type": "code",
      "metadata": {
        "id": "bVS_mIaL_elm"
      },
      "source": [
        "train=[]\n",
        "test=[]\n",
        "train_loss=[]\n",
        "test_loss=[]"
      ],
      "execution_count": 10,
      "outputs": []
    },
    {
      "cell_type": "markdown",
      "metadata": {
        "id": "dkmjOqb34E88"
      },
      "source": [
        "####  SGD with learning_rate = 0.01\n"
      ]
    },
    {
      "cell_type": "code",
      "metadata": {
        "id": "PkM9I-eD4E88",
        "outputId": "e320c73d-f836-4b7e-c823-bd6e50eb8411",
        "colab": {
          "base_uri": "https://localhost:8080/"
        }
      },
      "source": [
        "        ################################\n",
        "        ###  your code goes here...  ###\n",
        "        ################################\n",
        "\n",
        "model=make_basic_model()\n",
        "opt=tf.keras.optimizers.SGD(learning_rate=0.01)\n",
        "model.compile(optimizer=opt,  loss='sparse_categorical_crossentropy',\n",
        "              metrics=['accuracy'])\n",
        "model.summary()\n",
        "\n",
        "history = model.fit(train_images, train_labels, epochs=100, batch_size=64, verbose=0,\n",
        "                        validation_data=(test_images, test_labels))  \n",
        "\n"
      ],
      "execution_count": 5,
      "outputs": [
        {
          "output_type": "stream",
          "name": "stdout",
          "text": [
            "Model: \"sequential\"\n",
            "_________________________________________________________________\n",
            " Layer (type)                Output Shape              Param #   \n",
            "=================================================================\n",
            " conv2d (Conv2D)             (None, 32, 32, 32)        896       \n",
            "                                                                 \n",
            " max_pooling2d (MaxPooling2D  (None, 16, 16, 32)       0         \n",
            " )                                                               \n",
            "                                                                 \n",
            " conv2d_1 (Conv2D)           (None, 16, 16, 64)        18496     \n",
            "                                                                 \n",
            " max_pooling2d_1 (MaxPooling  (None, 8, 8, 64)         0         \n",
            " 2D)                                                             \n",
            "                                                                 \n",
            " conv2d_2 (Conv2D)           (None, 8, 8, 128)         73856     \n",
            "                                                                 \n",
            " max_pooling2d_2 (MaxPooling  (None, 4, 4, 128)        0         \n",
            " 2D)                                                             \n",
            "                                                                 \n",
            " flatten (Flatten)           (None, 2048)              0         \n",
            "                                                                 \n",
            " dense (Dense)               (None, 128)               262272    \n",
            "                                                                 \n",
            " dense_1 (Dense)             (None, 10)                1290      \n",
            "                                                                 \n",
            "=================================================================\n",
            "Total params: 356,810\n",
            "Trainable params: 356,810\n",
            "Non-trainable params: 0\n",
            "_________________________________________________________________\n"
          ]
        }
      ]
    },
    {
      "cell_type": "code",
      "metadata": {
        "id": "d_lDFxxt_dII"
      },
      "source": [
        "train.append( history.history['accuracy'][-1])\n",
        "test.append(history.history['val_accuracy'][-1])\n",
        "train_loss.append(history.history['loss'][-1])\n",
        "test_loss.append(history.history['val_loss'][-1])"
      ],
      "execution_count": 11,
      "outputs": []
    },
    {
      "cell_type": "markdown",
      "metadata": {
        "id": "TGPsS-tE4E89"
      },
      "source": [
        "#### SGD with learning_rate = 0.001 \n",
        "\n"
      ]
    },
    {
      "cell_type": "code",
      "metadata": {
        "id": "JQ1TfJJQ4E8-",
        "outputId": "6b9930c7-634b-461c-b804-5793238c99b4",
        "colab": {
          "base_uri": "https://localhost:8080/"
        }
      },
      "source": [
        "        ################################\n",
        "        ###  your code goes here...  ###\n",
        "        ################################\n",
        "\n",
        "model=make_basic_model()\n",
        "opt=tf.keras.optimizers.SGD(learning_rate=0.001)\n",
        "model.compile(optimizer=opt,  loss='sparse_categorical_crossentropy',\n",
        "              metrics=['accuracy'])\n",
        "model.summary()\n",
        "\n",
        "history = model.fit(train_images, train_labels, epochs=100, batch_size=64, verbose=0,\n",
        "                        validation_data=(test_images, test_labels))  \n"
      ],
      "execution_count": 12,
      "outputs": [
        {
          "output_type": "stream",
          "name": "stdout",
          "text": [
            "Model: \"sequential_1\"\n",
            "_________________________________________________________________\n",
            " Layer (type)                Output Shape              Param #   \n",
            "=================================================================\n",
            " conv2d_3 (Conv2D)           (None, 32, 32, 32)        896       \n",
            "                                                                 \n",
            " max_pooling2d_3 (MaxPooling  (None, 16, 16, 32)       0         \n",
            " 2D)                                                             \n",
            "                                                                 \n",
            " conv2d_4 (Conv2D)           (None, 16, 16, 64)        18496     \n",
            "                                                                 \n",
            " max_pooling2d_4 (MaxPooling  (None, 8, 8, 64)         0         \n",
            " 2D)                                                             \n",
            "                                                                 \n",
            " conv2d_5 (Conv2D)           (None, 8, 8, 128)         73856     \n",
            "                                                                 \n",
            " max_pooling2d_5 (MaxPooling  (None, 4, 4, 128)        0         \n",
            " 2D)                                                             \n",
            "                                                                 \n",
            " flatten_1 (Flatten)         (None, 2048)              0         \n",
            "                                                                 \n",
            " dense_2 (Dense)             (None, 128)               262272    \n",
            "                                                                 \n",
            " dense_3 (Dense)             (None, 10)                1290      \n",
            "                                                                 \n",
            "=================================================================\n",
            "Total params: 356,810\n",
            "Trainable params: 356,810\n",
            "Non-trainable params: 0\n",
            "_________________________________________________________________\n"
          ]
        }
      ]
    },
    {
      "cell_type": "code",
      "metadata": {
        "id": "5x4ejZBZFW1d"
      },
      "source": [
        "train.append( history.history['accuracy'][-1])\n",
        "test.append(history.history['val_accuracy'][-1])\n",
        "train_loss.append(history.history['loss'][-1])\n",
        "test_loss.append(history.history['val_loss'][-1])"
      ],
      "execution_count": 13,
      "outputs": []
    },
    {
      "cell_type": "markdown",
      "metadata": {
        "id": "JdGtxs6j4E8-"
      },
      "source": [
        "#### SGD with learning_rate = 0.1 \n"
      ]
    },
    {
      "cell_type": "code",
      "metadata": {
        "id": "iyrwvdGf4E8-",
        "outputId": "3649a12d-9a85-4606-8375-ed1e66a52a30",
        "colab": {
          "base_uri": "https://localhost:8080/"
        }
      },
      "source": [
        "        ################################\n",
        "        ###  your code goes here...  ###\n",
        "        ################################\n",
        "\n",
        "model=make_basic_model()\n",
        "opt=tf.keras.optimizers.SGD(learning_rate=0.1)\n",
        "model.compile(optimizer=opt,  loss='sparse_categorical_crossentropy',\n",
        "              metrics=['accuracy'])\n",
        "model.summary()\n",
        "\n",
        "history = model.fit(train_images, train_labels, epochs=100, batch_size=64, verbose=0,\n",
        "                        validation_data=(test_images, test_labels))  "
      ],
      "execution_count": 14,
      "outputs": [
        {
          "output_type": "stream",
          "name": "stdout",
          "text": [
            "Model: \"sequential_2\"\n",
            "_________________________________________________________________\n",
            " Layer (type)                Output Shape              Param #   \n",
            "=================================================================\n",
            " conv2d_6 (Conv2D)           (None, 32, 32, 32)        896       \n",
            "                                                                 \n",
            " max_pooling2d_6 (MaxPooling  (None, 16, 16, 32)       0         \n",
            " 2D)                                                             \n",
            "                                                                 \n",
            " conv2d_7 (Conv2D)           (None, 16, 16, 64)        18496     \n",
            "                                                                 \n",
            " max_pooling2d_7 (MaxPooling  (None, 8, 8, 64)         0         \n",
            " 2D)                                                             \n",
            "                                                                 \n",
            " conv2d_8 (Conv2D)           (None, 8, 8, 128)         73856     \n",
            "                                                                 \n",
            " max_pooling2d_8 (MaxPooling  (None, 4, 4, 128)        0         \n",
            " 2D)                                                             \n",
            "                                                                 \n",
            " flatten_2 (Flatten)         (None, 2048)              0         \n",
            "                                                                 \n",
            " dense_4 (Dense)             (None, 128)               262272    \n",
            "                                                                 \n",
            " dense_5 (Dense)             (None, 10)                1290      \n",
            "                                                                 \n",
            "=================================================================\n",
            "Total params: 356,810\n",
            "Trainable params: 356,810\n",
            "Non-trainable params: 0\n",
            "_________________________________________________________________\n"
          ]
        }
      ]
    },
    {
      "cell_type": "code",
      "metadata": {
        "id": "Ldf2-JqrFY3S"
      },
      "source": [
        "train.append( history.history['accuracy'][-1])\n",
        "test.append(history.history['val_accuracy'][-1])\n",
        "train_loss.append(history.history['loss'][-1])\n",
        "test_loss.append(history.history['val_loss'][-1])"
      ],
      "execution_count": 15,
      "outputs": []
    },
    {
      "cell_type": "code",
      "metadata": {
        "id": "TAj1BqYcT6XJ",
        "outputId": "902fc0c7-d38a-47cc-8a1b-b984c19dfa66",
        "colab": {
          "base_uri": "https://localhost:8080/"
        }
      },
      "source": [
        "train"
      ],
      "execution_count": 17,
      "outputs": [
        {
          "output_type": "execute_result",
          "data": {
            "text/plain": [
              "[1.0, 0.661300003528595, 0.661300003528595, 0.9720600247383118]"
            ]
          },
          "metadata": {},
          "execution_count": 17
        }
      ]
    },
    {
      "cell_type": "markdown",
      "metadata": {
        "id": "PFWNRL6D4E8_"
      },
      "source": [
        "#### SGD with learning_rate = 0.01 and momentum = 0.9\n"
      ]
    },
    {
      "cell_type": "code",
      "metadata": {
        "id": "lFpjQgYQ4E8_",
        "outputId": "eb563458-56fa-4791-946f-5581e927eb73",
        "colab": {
          "base_uri": "https://localhost:8080/"
        }
      },
      "source": [
        "        ################################\n",
        "        ###  your code goes here...  ###\n",
        "        ################################\n",
        "model=make_basic_model()\n",
        "opt=tf.keras.optimizers.SGD(learning_rate=0.01,momentum=0.9)\n",
        "model.compile(optimizer=opt,  loss='sparse_categorical_crossentropy',\n",
        "              metrics=['accuracy'])\n",
        "model.summary()\n",
        "\n",
        "history = model.fit(train_images, train_labels, epochs=100, batch_size=64, verbose=0,\n",
        "                        validation_data=(test_images, test_labels)) "
      ],
      "execution_count": 18,
      "outputs": [
        {
          "output_type": "stream",
          "name": "stdout",
          "text": [
            "Model: \"sequential_4\"\n",
            "_________________________________________________________________\n",
            " Layer (type)                Output Shape              Param #   \n",
            "=================================================================\n",
            " conv2d_12 (Conv2D)          (None, 32, 32, 32)        896       \n",
            "                                                                 \n",
            " max_pooling2d_12 (MaxPoolin  (None, 16, 16, 32)       0         \n",
            " g2D)                                                            \n",
            "                                                                 \n",
            " conv2d_13 (Conv2D)          (None, 16, 16, 64)        18496     \n",
            "                                                                 \n",
            " max_pooling2d_13 (MaxPoolin  (None, 8, 8, 64)         0         \n",
            " g2D)                                                            \n",
            "                                                                 \n",
            " conv2d_14 (Conv2D)          (None, 8, 8, 128)         73856     \n",
            "                                                                 \n",
            " max_pooling2d_14 (MaxPoolin  (None, 4, 4, 128)        0         \n",
            " g2D)                                                            \n",
            "                                                                 \n",
            " flatten_4 (Flatten)         (None, 2048)              0         \n",
            "                                                                 \n",
            " dense_8 (Dense)             (None, 128)               262272    \n",
            "                                                                 \n",
            " dense_9 (Dense)             (None, 10)                1290      \n",
            "                                                                 \n",
            "=================================================================\n",
            "Total params: 356,810\n",
            "Trainable params: 356,810\n",
            "Non-trainable params: 0\n",
            "_________________________________________________________________\n"
          ]
        }
      ]
    },
    {
      "cell_type": "markdown",
      "metadata": {
        "id": "0kKDwPGn4E8_"
      },
      "source": [
        "#### Graphical comparison \n",
        "\n",
        "Finally, In a single graph, plot together the training loss curves of all 4 runs (use different color for each plot, and add a proper legend).\n"
      ]
    },
    {
      "cell_type": "code",
      "metadata": {
        "id": "7_yRVz1UFaTL"
      },
      "source": [
        "train.append( history.history['accuracy'][-1])\n",
        "test.append(history.history['val_accuracy'][-1])\n",
        "train_loss.append(history.history['loss'][-1])\n",
        "test_loss.append(history.history['val_loss'][-1])"
      ],
      "execution_count": 19,
      "outputs": []
    },
    {
      "cell_type": "code",
      "metadata": {
        "id": "B4WJ1DoM4E9A"
      },
      "source": [
        "        ################################\n",
        "        ###  your code goes here...  ###\n",
        "        ################################\n",
        "\n",
        "plt.figure(figsize=(12,4))\n",
        "plt.subplot(1,2,1)\n",
        "plt.plot(history.history['loss'],'r', label='train')\n",
        "plt.plot(history.history['val_loss'],':r', label='test')\n",
        "plt.title('Loss',fontsize=14)\n",
        "plt.xlabel('Epochs',fontsize=14)\n",
        "plt.legend()\n",
        "plt.grid()\n",
        "\n",
        "plt.subplot(1,2,2)\n",
        "plt.plot(history.history['accuracy'],'b', label='train')\n",
        "plt.plot(history.history['val_accuracy'],':b', label='test')\n",
        "plt.ylim([0, 1])\n",
        "plt.title('Accuracy',fontsize=14)\n",
        "plt.xlabel('Epochs',fontsize=14)\n",
        "plt.legend()\n",
        "plt.grid()"
      ],
      "execution_count": null,
      "outputs": []
    },
    {
      "cell_type": "markdown",
      "metadata": {
        "id": "BUFh-43U4E9A"
      },
      "source": [
        "---\n",
        "## 2. Add Dropout\n",
        "\n",
        "In order to overcome the over-training we will add `dropout` layers: one `dropout` layer before each of the `Dense` layers. Use a 20% dropout rate.\n",
        "\n",
        "Pick your favorite SGD optimizer and train the network for 50 Epochs. \n",
        "\n",
        "- Verify that you get better results in terms of over-training (less over-training is better..)\n",
        "\n",
        "- Did you also get a better accuracy on the validation data?"
      ]
    },
    {
      "cell_type": "code",
      "metadata": {
        "id": "c2DsP2FV4E9A",
        "outputId": "60bdf385-227e-4c18-d994-bfa3cd3c2e55",
        "colab": {
          "base_uri": "https://localhost:8080/"
        }
      },
      "source": [
        "        ################################\n",
        "        ###  your code goes here...  ###\n",
        "        ################################\n",
        "model = Sequential()\n",
        "model.add(Input(shape=(32,32,3)))\n",
        "model.add(Conv2D(32, (3,3), activation='relu', padding='same'))\n",
        "model.add(MaxPooling2D((2,2)))\n",
        "model.add(Conv2D(64, (3,3), activation='relu', padding='same'))\n",
        "model.add(MaxPooling2D((2,2)))\n",
        "model.add(Conv2D(128, (3,3), activation='relu', padding='same'))\n",
        "model.add(MaxPooling2D((2,2)))\n",
        "model.add(Flatten())\n",
        "model.add(Dropout(0.2))\n",
        "model.add(Dense(128, activation='relu'))\n",
        "model.add(Dropout(0.2))\n",
        "model.add(Dense(10, activation='softmax'))\n",
        "\n",
        "opt=tf.keras.optimizers.SGD(learning_rate=0.01)\n",
        "model.compile(optimizer=opt,  loss='sparse_categorical_crossentropy',\n",
        "              metrics=['accuracy'])\n",
        "model.summary()\n",
        "\n",
        "history = model.fit(train_images, train_labels, epochs=50, batch_size=64, verbose=0,\n",
        "                        validation_data=(test_images, test_labels)) \n",
        "\n"
      ],
      "execution_count": 22,
      "outputs": [
        {
          "output_type": "stream",
          "name": "stdout",
          "text": [
            "Model: \"sequential_7\"\n",
            "_________________________________________________________________\n",
            " Layer (type)                Output Shape              Param #   \n",
            "=================================================================\n",
            " conv2d_21 (Conv2D)          (None, 32, 32, 32)        896       \n",
            "                                                                 \n",
            " max_pooling2d_21 (MaxPoolin  (None, 16, 16, 32)       0         \n",
            " g2D)                                                            \n",
            "                                                                 \n",
            " conv2d_22 (Conv2D)          (None, 16, 16, 64)        18496     \n",
            "                                                                 \n",
            " max_pooling2d_22 (MaxPoolin  (None, 8, 8, 64)         0         \n",
            " g2D)                                                            \n",
            "                                                                 \n",
            " conv2d_23 (Conv2D)          (None, 8, 8, 128)         73856     \n",
            "                                                                 \n",
            " max_pooling2d_23 (MaxPoolin  (None, 4, 4, 128)        0         \n",
            " g2D)                                                            \n",
            "                                                                 \n",
            " flatten_7 (Flatten)         (None, 2048)              0         \n",
            "                                                                 \n",
            " dropout (Dropout)           (None, 2048)              0         \n",
            "                                                                 \n",
            " dense_10 (Dense)            (None, 128)               262272    \n",
            "                                                                 \n",
            " dropout_1 (Dropout)         (None, 128)               0         \n",
            "                                                                 \n",
            " dense_11 (Dense)            (None, 10)                1290      \n",
            "                                                                 \n",
            "=================================================================\n",
            "Total params: 356,810\n",
            "Trainable params: 356,810\n",
            "Non-trainable params: 0\n",
            "_________________________________________________________________\n"
          ]
        }
      ]
    },
    {
      "cell_type": "code",
      "metadata": {
        "id": "bhFVLUA7Y53j",
        "outputId": "08637e07-1ab2-4dc2-d696-29380ce81695",
        "colab": {
          "base_uri": "https://localhost:8080/",
          "height": 337
        }
      },
      "source": [
        "\n",
        "plt.figure(figsize=(12,4))\n",
        "plt.subplot(1,2,1)\n",
        "plt.plot(history.history['loss'],'r', label='train')\n",
        "plt.plot(history.history['val_loss'],':r', label='test')\n",
        "plt.title('Loss',fontsize=14)\n",
        "plt.xlabel('Epochs',fontsize=14)\n",
        "plt.legend()\n",
        "plt.grid()\n",
        "\n",
        "plt.subplot(1,2,2)\n",
        "plt.plot(history.history['accuracy'],'b', label='train')\n",
        "plt.plot(history.history['val_accuracy'],':b', label='test')\n",
        "plt.ylim([0, 1])\n",
        "plt.title('Accuracy',fontsize=14)\n",
        "plt.xlabel('Epochs',fontsize=14)\n",
        "plt.legend()\n",
        "plt.grid()\n",
        "print( \"train acc:\", history.history['accuracy'][-1])\n",
        "print( \"test acc:\", history.history['val_accuracy'][-1])"
      ],
      "execution_count": 23,
      "outputs": [
        {
          "output_type": "stream",
          "name": "stdout",
          "text": [
            "train acc: 0.8042799830436707\n",
            "test acc: 0.7455000281333923\n"
          ]
        },
        {
          "output_type": "display_data",
          "data": {
            "image/png": "[encoded data removed]",
            "text/plain": [
              "<Figure size 864x288 with 2 Axes>"
            ]
          },
          "metadata": {
            "needs_background": "light"
          }
        }
      ]
    },
    {
      "cell_type": "markdown",
      "metadata": {
        "id": "tZbT3-Jp4E9B"
      },
      "source": [
        "---\n",
        "## 3. Add Data Augmentation\n",
        "\n",
        "Add 2-3 layers of data augmentation (of your choice) to the previous model (with the dropout).\n",
        "\n",
        "- Train the model (50 epoch)\n",
        "\n",
        "- Did you get better results?\n"
      ]
    },
    {
      "cell_type": "code",
      "metadata": {
        "id": "kd3Nk49L4E9B",
        "outputId": "c5b2b1ef-735c-41dc-c07c-a7e508fdb896",
        "colab": {
          "base_uri": "https://localhost:8080/"
        }
      },
      "source": [
        "        ################################\n",
        "        ###  your code goes here...  ###\n",
        "        ################################\n",
        "\n",
        "# data_augmentation = tf.keras.Sequential([\n",
        "#     layers.experimental.preprocessing.RandomFlip(\"horizontal_and_vertical\"),\n",
        "#     layers.experimental.preprocessing.RandomRotation(0.2), \n",
        "#  ])\n",
        "    \n",
        "model = Sequential()\n",
        "model.add(Input(shape=(32,32,3)))\n",
        "model.add(RandomFlip(\"horizontal_and_vertical\"))\n",
        "model.add(RandomRotation(0.2))\n",
        "model.add(Conv2D(32, (3,3), activation='relu', padding='same'))\n",
        "model.add(MaxPooling2D((2,2)))\n",
        "model.add(Conv2D(64, (3,3), activation='relu', padding='same'))\n",
        "model.add(MaxPooling2D((2,2)))\n",
        "model.add(Conv2D(128, (3,3), activation='relu', padding='same'))\n",
        "model.add(MaxPooling2D((2,2)))\n",
        "model.add(Flatten())\n",
        "model.add(Dropout(0.2))\n",
        "model.add(Dense(128, activation='relu'))\n",
        "model.add(Dropout(0.2))\n",
        "model.add(Dense(10, activation='softmax'))\n",
        "\n",
        "opt=tf.keras.optimizers.SGD(learning_rate=0.01)\n",
        "model.compile(optimizer=opt,  loss='sparse_categorical_crossentropy',\n",
        "              metrics=['accuracy'])\n",
        "model.summary()\n",
        "train_score= model.fit(train_images, train_labels, epochs=50, batch_size=64, verbose=0)\n",
        "test_score= model.evaluate(test_images,test_labels)\n"
      ],
      "execution_count": 38,
      "outputs": [
        {
          "output_type": "stream",
          "name": "stdout",
          "text": [
            "Model: \"sequential_14\"\n",
            "_________________________________________________________________\n",
            " Layer (type)                Output Shape              Param #   \n",
            "=================================================================\n",
            " random_flip_3 (RandomFlip)  (None, 32, 32, 3)         0         \n",
            "                                                                 \n",
            " random_rotation_3 (RandomRo  (None, 32, 32, 3)        0         \n",
            " tation)                                                         \n",
            "                                                                 \n",
            " conv2d_33 (Conv2D)          (None, 32, 32, 32)        896       \n",
            "                                                                 \n",
            " max_pooling2d_33 (MaxPoolin  (None, 16, 16, 32)       0         \n",
            " g2D)                                                            \n",
            "                                                                 \n",
            " conv2d_34 (Conv2D)          (None, 16, 16, 64)        18496     \n",
            "                                                                 \n",
            " max_pooling2d_34 (MaxPoolin  (None, 8, 8, 64)         0         \n",
            " g2D)                                                            \n",
            "                                                                 \n",
            " conv2d_35 (Conv2D)          (None, 8, 8, 128)         73856     \n",
            "                                                                 \n",
            " max_pooling2d_35 (MaxPoolin  (None, 4, 4, 128)        0         \n",
            " g2D)                                                            \n",
            "                                                                 \n",
            " flatten_11 (Flatten)        (None, 2048)              0         \n",
            "                                                                 \n",
            " dropout_8 (Dropout)         (None, 2048)              0         \n",
            "                                                                 \n",
            " dense_18 (Dense)            (None, 128)               262272    \n",
            "                                                                 \n",
            " dropout_9 (Dropout)         (None, 128)               0         \n",
            "                                                                 \n",
            " dense_19 (Dense)            (None, 10)                1290      \n",
            "                                                                 \n",
            "=================================================================\n",
            "Total params: 356,810\n",
            "Trainable params: 356,810\n",
            "Non-trainable params: 0\n",
            "_________________________________________________________________\n",
            "313/313 [==============================] - 2s 5ms/step - loss: 1.2086 - accuracy: 0.5684\n"
          ]
        }
      ]
    },
    {
      "cell_type": "code",
      "metadata": {
        "id": "Tr7NJhFXnOOC",
        "outputId": "14e4b9a9-698b-4659-9a7a-80e0a1739a1c",
        "colab": {
          "base_uri": "https://localhost:8080/"
        }
      },
      "source": [
        "# train_score.history['accuracy'][-1]\n",
        "test_score"
      ],
      "execution_count": 44,
      "outputs": [
        {
          "output_type": "execute_result",
          "data": {
            "text/plain": [
              "[1.2085590362548828, 0.5684000253677368]"
            ]
          },
          "metadata": {},
          "execution_count": 44
        }
      ]
    },
    {
      "cell_type": "code",
      "metadata": {
        "id": "_qEOh5bGiGPL",
        "outputId": "c0ff7e7c-70b1-4161-9aae-3ce0b4fa1531",
        "colab": {
          "base_uri": "https://localhost:8080/",
          "height": 337
        }
      },
      "source": [
        "plt.figure(figsize=(12,4))\n",
        "plt.subplot(1,2,1)\n",
        "plt.plot(history.history['loss'],'r', label='train')\n",
        "plt.plot(history.history['val_loss'],':r', label='test')\n",
        "plt.title('Loss',fontsize=14)\n",
        "plt.xlabel('Epochs',fontsize=14)\n",
        "plt.legend()\n",
        "plt.grid()\n",
        "\n",
        "plt.subplot(1,2,2)\n",
        "plt.plot(history.history['accuracy'],'b', label='train')\n",
        "plt.plot(history.history['val_accuracy'],':b', label='test')\n",
        "plt.ylim([0, 1])\n",
        "plt.title('Accuracy',fontsize=14)\n",
        "plt.xlabel('Epochs',fontsize=14)\n",
        "plt.legend()\n",
        "plt.grid()\n",
        "print( \"train acc:\", history.history['accuracy'][-1])\n",
        "print( \"test acc:\", history.history['val_accuracy'][-1])"
      ],
      "execution_count": 35,
      "outputs": [
        {
          "output_type": "stream",
          "name": "stdout",
          "text": [
            "train acc: 0.553820013999939\n",
            "test acc: 0.5888000130653381\n"
          ]
        },
        {
          "output_type": "display_data",
          "data": {
            "image/png": "[encoded data removed]",
            "text/plain": [
              "<Figure size 864x288 with 2 Axes>"
            ]
          },
          "metadata": {
            "needs_background": "light"
          }
        }
      ]
    },
    {
      "cell_type": "markdown",
      "metadata": {
        "id": "Jq1gOA_Y4E9C"
      },
      "source": [
        "---\n",
        "## 4. Deeper model\n",
        "\n",
        "Finally, lets make the model a bit deeper, doubling each `Conv2D` layer.\n",
        "We will also add `BatchNormalization` layers in between, to help the learning converge faster\n",
        "\n",
        "- 32 3x3-`Conv2D` + BatchNormalization()` + 32 3x3-`Conv2D` + BatchNormalization()` + 2x2 `MaxPooling` \n",
        "- 64 3x3-`Conv2D` + BatchNormalization()` + 64 3x3-`Conv2D` + BatchNormalization()` + 2x2 `MaxPooling` \n",
        "- 128 3x3-`Conv2D` + BatchNormalization()` + 128 3x3-`Conv2D` + BatchNormalization()` + 2x2 `MaxPooling` \n",
        "\n",
        "Train this model (including the data augmentation and drop-out) and plot the usual graphs.\n",
        "\n",
        "(Hopefully, you should get close to 90% accuracy..)"
      ]
    },
    {
      "cell_type": "code",
      "metadata": {
        "id": "u1dlMjno4E9C"
      },
      "source": [
        "        ################################\n",
        "        ###  your code goes here...  ###\n",
        "        ################################"
      ],
      "execution_count": null,
      "outputs": []
    },
    {
      "cell_type": "markdown",
      "metadata": {
        "id": "g3GQDjJf4E9C"
      },
      "source": [
        "***\n",
        "## Good Luck!"
      ]
    }
  ]
}