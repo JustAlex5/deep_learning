{
  "cells": [
    {
      "cell_type": "markdown",
      "metadata": {
        "id": "view-in-github",
        "colab_type": "text"
      },
      "source": [
        "<a href=\"https://colab.research.google.com/github/JustAlex5/deep_learning/blob/main/ex10.ipynb\" target=\"_parent\"><img src=\"https://colab.research.google.com/assets/colab-badge.svg\" alt=\"Open In Colab\"/></a>"
      ]
    },
    {
      "cell_type": "markdown",
      "metadata": {
        "id": "Xbxw0bG3TFhx"
      },
      "source": [
        "# Deep Learning: Ex.10 - RNN\n",
        "\n",
        "Submitted by: [... **your name and ID** ...]\n"
      ]
    },
    {
      "cell_type": "code",
      "execution_count": 1,
      "metadata": {
        "id": "WsWcF11bTFh0",
        "colab": {
          "base_uri": "https://localhost:8080/"
        },
        "outputId": "e4864172-20e4-46c4-d30b-9bb2159e14c4"
      },
      "outputs": [
        {
          "output_type": "stream",
          "name": "stdout",
          "text": [
            "2.7.0\n"
          ]
        }
      ],
      "source": [
        "# TensorFlow and tf.keras\n",
        "import tensorflow as tf\n",
        "from tensorflow.keras.models import Sequential, Model\n",
        "from tensorflow.keras.layers import Dense, Dropout, Activation, Flatten, Input\n",
        "from tensorflow.keras.layers import SimpleRNN, LSTM # <--- recurrent layers\n",
        "\n",
        "# Helper libraries\n",
        "import numpy as np\n",
        "import matplotlib.pyplot as plt\n",
        "from seaborn import heatmap\n",
        "\n",
        "print(tf.__version__)"
      ]
    },
    {
      "cell_type": "code",
      "source": [
        ""
      ],
      "metadata": {
        "id": "VU517batTiks"
      },
      "execution_count": 1,
      "outputs": []
    },
    {
      "cell_type": "code",
      "source": [
        "from google.colab import drive\n",
        "drive.mount('/content/drive')"
      ],
      "metadata": {
        "colab": {
          "base_uri": "https://localhost:8080/"
        },
        "id": "9R67-cySTj92",
        "outputId": "c5b0ad5f-704f-40b7-af6a-1f6a852028fd"
      },
      "execution_count": 2,
      "outputs": [
        {
          "output_type": "stream",
          "name": "stdout",
          "text": [
            "Mounted at /content/drive\n"
          ]
        }
      ]
    },
    {
      "cell_type": "code",
      "source": [
        "ls '/content/drive/MyDrive/Ex10'"
      ],
      "metadata": {
        "colab": {
          "base_uri": "https://localhost:8080/"
        },
        "id": "xIgoq-S8Tu5f",
        "outputId": "1a5f1229-0cc1-4a4d-d294-d6fd4f004f11"
      },
      "execution_count": 3,
      "outputs": [
        {
          "output_type": "stream",
          "name": "stdout",
          "text": [
            "war_and_peace.txt\n"
          ]
        }
      ]
    },
    {
      "cell_type": "code",
      "source": [
        "path='/content/drive/MyDrive/Ex10/war_and_peace.txt'"
      ],
      "metadata": {
        "id": "LN6aBGzxT9xh"
      },
      "execution_count": 4,
      "outputs": []
    },
    {
      "cell_type": "markdown",
      "metadata": {
        "id": "P3blM1K8TFh1"
      },
      "source": [
        "***\n",
        "### 1. Preprocess the text corpus\n",
        "\n",
        "(if you are using google colab, remember to upload the corpus file first..)"
      ]
    },
    {
      "cell_type": "code",
      "execution_count": 5,
      "metadata": {
        "colab": {
          "base_uri": "https://localhost:8080/"
        },
        "id": "0HIeehSdTFh1",
        "outputId": "3f1233b9-f3bc-4a66-fc17-d4ec8d44aef9"
      },
      "outputs": [
        {
          "output_type": "stream",
          "name": "stdout",
          "text": [
            "len(text) =  3196213\n",
            "﻿\"well, prince, so genoa and lucca are now just family estates of the buonapartes. but i warn you, if you don't tell me that this means war, if you still try to defend the infamies and horrors perpetrated by that antichrist--i really believe he is antichrist--i will have nothing more to do with you and you are no longer my friend, no longer my 'faithful slave,' as you call yourself! but how do you\n"
          ]
        }
      ],
      "source": [
        "f = open(path,'r') # open the corpus file\n",
        "\n",
        "text = f.read().lower()  # read file and convert to lower-case letters\n",
        "text= text.replace('\\n', ' ')\n",
        "\n",
        "print('len(text) = ',len(text))\n",
        "\n",
        "\n",
        "print(text[:400]) # print the first 400 characters.."
      ]
    },
    {
      "cell_type": "markdown",
      "metadata": {
        "id": "JT6dzK3KTFh2"
      },
      "source": [
        "- generate training sequences of `T=20` characters, by sampling the text corpus with a stride of 5 characters (i.e., each sequences starts 5 chars after the begining of the last sequences).\n",
        "\n",
        "- generate a matching list, holding the `next_char` for each of your sequences.\n",
        "\n",
        "- how many sequences did you extract in total? `N = ?`\n",
        "\n",
        "- convert the sequences into a 1-hot representation, suitable for our model trainig:\n",
        "\n",
        "`X.shape = (N, T, len(chars))`\n",
        "\n",
        "`Y.shape = (N, len(chars))`"
      ]
    },
    {
      "cell_type": "code",
      "source": [
        "chars = sorted(list(set(text)))\n",
        "text_size, vocab_size = len(text), len(chars)\n",
        "print('There are %d total characters and %d unique characters in your data.' % (text_size, vocab_size))\n",
        "print('chars = ',chars)"
      ],
      "metadata": {
        "colab": {
          "base_uri": "https://localhost:8080/"
        },
        "id": "A7yspK6i1IE9",
        "outputId": "79f7f2e8-9c1e-47c8-8434-581a59c276ad"
      },
      "execution_count": 6,
      "outputs": [
        {
          "output_type": "stream",
          "name": "stdout",
          "text": [
            "There are 3196213 total characters and 56 unique characters in your data.\n",
            "chars =  [' ', '!', '\"', \"'\", '(', ')', '*', ',', '-', '.', '/', '0', '1', '2', '3', '4', '5', '6', '7', '8', '9', ':', ';', '=', '?', 'a', 'b', 'c', 'd', 'e', 'f', 'g', 'h', 'i', 'j', 'k', 'l', 'm', 'n', 'o', 'p', 'q', 'r', 's', 't', 'u', 'v', 'w', 'x', 'y', 'z', 'à', 'ä', 'é', 'ê', '\\ufeff']\n"
          ]
        }
      ]
    },
    {
      "cell_type": "code",
      "source": [
        "char_to_ix = { ch:i for i,ch in enumerate(chars) }\n",
        "ix_to_char = { i:ch for i,ch in enumerate(chars) }\n",
        "\n",
        "ix_to_char"
      ],
      "metadata": {
        "colab": {
          "base_uri": "https://localhost:8080/"
        },
        "id": "HAbl5vvq1g-Q",
        "outputId": "71e53367-d554-459d-c3a4-bea4a5beced7"
      },
      "execution_count": 7,
      "outputs": [
        {
          "output_type": "execute_result",
          "data": {
            "text/plain": [
              "{0: ' ',\n",
              " 1: '!',\n",
              " 2: '\"',\n",
              " 3: \"'\",\n",
              " 4: '(',\n",
              " 5: ')',\n",
              " 6: '*',\n",
              " 7: ',',\n",
              " 8: '-',\n",
              " 9: '.',\n",
              " 10: '/',\n",
              " 11: '0',\n",
              " 12: '1',\n",
              " 13: '2',\n",
              " 14: '3',\n",
              " 15: '4',\n",
              " 16: '5',\n",
              " 17: '6',\n",
              " 18: '7',\n",
              " 19: '8',\n",
              " 20: '9',\n",
              " 21: ':',\n",
              " 22: ';',\n",
              " 23: '=',\n",
              " 24: '?',\n",
              " 25: 'a',\n",
              " 26: 'b',\n",
              " 27: 'c',\n",
              " 28: 'd',\n",
              " 29: 'e',\n",
              " 30: 'f',\n",
              " 31: 'g',\n",
              " 32: 'h',\n",
              " 33: 'i',\n",
              " 34: 'j',\n",
              " 35: 'k',\n",
              " 36: 'l',\n",
              " 37: 'm',\n",
              " 38: 'n',\n",
              " 39: 'o',\n",
              " 40: 'p',\n",
              " 41: 'q',\n",
              " 42: 'r',\n",
              " 43: 's',\n",
              " 44: 't',\n",
              " 45: 'u',\n",
              " 46: 'v',\n",
              " 47: 'w',\n",
              " 48: 'x',\n",
              " 49: 'y',\n",
              " 50: 'z',\n",
              " 51: 'à',\n",
              " 52: 'ä',\n",
              " 53: 'é',\n",
              " 54: 'ê',\n",
              " 55: '\\ufeff'}"
            ]
          },
          "metadata": {},
          "execution_count": 7
        }
      ]
    },
    {
      "cell_type": "code",
      "execution_count": 8,
      "metadata": {
        "id": "zR-7S1GQTFh2"
      },
      "outputs": [],
      "source": [
        "    ###########################\n",
        "    ###  your code here...  ###\n",
        "    ###########################\n",
        "\n",
        "T = 20  # extract training sequences of length T\n",
        "stride = 5\n",
        "\n",
        "sequences = []  # This holds our extracted sequences\n",
        "next_chars = []  # This holds the targets (the follow-up character)\n",
        "\n",
        "for i in range(0, len(text) - T, stride):\n",
        "  sequences.append(text[i: i + T])\n",
        "  next_chars.append(text[i + T])\n"
      ]
    },
    {
      "cell_type": "code",
      "source": [
        "len(sequences)"
      ],
      "metadata": {
        "colab": {
          "base_uri": "https://localhost:8080/"
        },
        "id": "o74b8dBbzJJH",
        "outputId": "7607208e-47aa-4b3c-872f-44d7f26e6fff"
      },
      "execution_count": 9,
      "outputs": [
        {
          "output_type": "execute_result",
          "data": {
            "text/plain": [
              "639239"
            ]
          },
          "metadata": {},
          "execution_count": 9
        }
      ]
    },
    {
      "cell_type": "code",
      "source": [
        "for i in range(10):\n",
        "    print(sequences[i], '->', next_chars[i])"
      ],
      "metadata": {
        "colab": {
          "base_uri": "https://localhost:8080/"
        },
        "id": "HTWHc2iTzKBF",
        "outputId": "61761b26-0c2b-42fd-a068-1dceaa16ef00"
      },
      "execution_count": 10,
      "outputs": [
        {
          "output_type": "stream",
          "name": "stdout",
          "text": [
            "﻿\"well, prince, so g -> e\n",
            "l, prince, so genoa  -> a\n",
            "ince, so genoa and l -> u\n",
            " so genoa and lucca  -> a\n",
            "enoa and lucca are n -> o\n",
            "and lucca are now ju -> s\n",
            "ucca are now just fa -> m\n",
            "are now just family  -> e\n",
            "ow just family estat -> e\n",
            "st family estates of ->  \n"
          ]
        }
      ]
    },
    {
      "cell_type": "code",
      "source": [
        "X = np.zeros((len(sequences), T, len(text)), dtype='bool')\n",
        "Y = np.zeros((len(sequences), len(text)), dtype='bool')"
      ],
      "metadata": {
        "id": "TZYrJBPnHsC6"
      },
      "execution_count": null,
      "outputs": []
    },
    {
      "cell_type": "code",
      "source": [
        "\n",
        "\n",
        "for i, seq in enumerate(sequences):\n",
        "    for t, char in enumerate(seq):\n",
        "        X[i, t, char_to_ix[char]] = 1\n",
        "    Y[i, char_to_ix[next_chars[i]]] = 1\n",
        "    \n",
        "print('X.shape = (#examples, T, input-dim) =', X.shape)\n",
        "print('Y.shape = (#examples, output-dim) =', Y.shape)"
      ],
      "metadata": {
        "id": "4FhvWrHGzayB"
      },
      "execution_count": null,
      "outputs": []
    },
    {
      "cell_type": "markdown",
      "metadata": {
        "id": "uwP0kVXlTFh2"
      },
      "source": [
        "***\n",
        "### 2. LTSM Model\n",
        "\n",
        "- Build an `LTSM` model with 128 (hidden)-units that accepts the input sequences. Add a `Dense` layer on top of it, with `len(chars)` softmax units.\n",
        "\n",
        "- Train the model for only 1 epoch (use: `RMSprop` and batch size of 128).\n",
        "\n"
      ]
    },
    {
      "cell_type": "code",
      "execution_count": null,
      "metadata": {
        "id": "vC_81a9KTFh3"
      },
      "outputs": [],
      "source": [
        "    ###########################\n",
        "    ###  your code here...  ###\n",
        "    ###########################"
      ]
    },
    {
      "cell_type": "markdown",
      "metadata": {
        "id": "i9mPsVgmTFh4"
      },
      "source": [
        "### 3. Model predictions\n",
        "\n",
        "\n",
        "- use the senternce `the meaning of life ` as an input to the model (convert it to 1-hot first..),\n",
        "\n",
        "- plot the model's output as a probability distribution over the list of chars.\n",
        "\n",
        "- sample a single char from that distribution, and add it to the generated sentence.\n",
        "\n",
        "- update the 1-hot buffer, and continue the process for 99 more letters (using a loop).\n",
        "\n",
        "- print the resulting sentence."
      ]
    },
    {
      "cell_type": "code",
      "execution_count": null,
      "metadata": {
        "id": "fU1Lfp9NTFh4"
      },
      "outputs": [],
      "source": [
        "    ###########################\n",
        "    ###  your code here...  ###\n",
        "    ###########################"
      ]
    },
    {
      "cell_type": "markdown",
      "metadata": {
        "id": "dNqz3-xNTFh4"
      },
      "source": [
        "***\n",
        "### 3. Fit your model\n",
        "\n",
        "- Fit your model a bit more (try 10-20 epochs), and regenerate a new `N=100` sentence sample. Does it get any better?\n",
        "\n",
        "- If you wish, you can try to train the model further, or you can try using a different corpus (dataset) for the training (you can even try a text in hebrew). Be creative ;)"
      ]
    },
    {
      "cell_type": "code",
      "execution_count": null,
      "metadata": {
        "id": "m2IcyDJwTFh5"
      },
      "outputs": [],
      "source": [
        "    ###########################\n",
        "    ###  your code here...  ###\n",
        "    ###########################"
      ]
    },
    {
      "cell_type": "markdown",
      "metadata": {
        "id": "VjSwVGzbTFh5"
      },
      "source": [
        "***\n",
        "## Good Luck!"
      ]
    }
  ],
  "metadata": {
    "kernelspec": {
      "display_name": "Python 3",
      "language": "python",
      "name": "python3"
    },
    "language_info": {
      "codemirror_mode": {
        "name": "ipython",
        "version": 3
      },
      "file_extension": ".py",
      "mimetype": "text/x-python",
      "name": "python",
      "nbconvert_exporter": "python",
      "pygments_lexer": "ipython3",
      "version": "3.7.10"
    },
    "colab": {
      "name": "ex10.ipynb",
      "provenance": [],
      "collapsed_sections": [],
      "machine_shape": "hm",
      "include_colab_link": true
    },
    "accelerator": "GPU"
  },
  "nbformat": 4,
  "nbformat_minor": 0
}